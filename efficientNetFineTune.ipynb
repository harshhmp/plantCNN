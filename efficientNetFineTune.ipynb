{
 "cells": [
  {
   "cell_type": "code",
   "execution_count": 1,
   "id": "c459fa22-beba-4529-b202-28e37fc3fbf8",
   "metadata": {},
   "outputs": [
    {
     "name": "stderr",
     "output_type": "stream",
     "text": [
      "2025-07-29 11:37:14.163575: I tensorflow/core/platform/cpu_feature_guard.cc:210] This TensorFlow binary is optimized to use available CPU instructions in performance-critical operations.\n",
      "To enable the following instructions: AVX2 FMA, in other operations, rebuild TensorFlow with the appropriate compiler flags.\n"
     ]
    }
   ],
   "source": [
    "import tensorflow as tf\n",
    "from tensorflow.keras.applications import EfficientNetB0\n",
    "from tensorflow.keras.models import Model\n",
    "from tensorflow.keras.layers import Dense, GlobalAveragePooling2D, Dropout\n",
    "from tensorflow.keras.preprocessing.image import ImageDataGenerator\n",
    "from tensorflow.keras.optimizers import Adam\n",
    "import os"
   ]
  },
  {
   "cell_type": "code",
   "execution_count": 2,
   "id": "e3a4a14d-714f-465b-ad66-32820b2a809a",
   "metadata": {},
   "outputs": [],
   "source": [
    "path = \"plantData/Image Data base/Image Data base\""
   ]
  },
  {
   "cell_type": "code",
   "execution_count": 3,
   "id": "6efec205-b982-4c69-a1c7-597b7e8499d4",
   "metadata": {
    "scrolled": true
   },
   "outputs": [
    {
     "name": "stdout",
     "output_type": "stream",
     "text": [
      "Found 199665 files belonging to 58 classes.\n",
      "Using 159732 files for training.\n"
     ]
    }
   ],
   "source": [
    "x_train = tf.keras.utils.image_dataset_from_directory(\n",
    "        path,\n",
    "        validation_split = 0.2,\n",
    "        subset=\"training\",\n",
    "        seed=123,\n",
    "        image_size=(224, 224),\n",
    "        batch_size=64\n",
    "    )"
   ]
  },
  {
   "cell_type": "code",
   "execution_count": 4,
   "id": "cd969971-da2e-4d37-896a-9315eee87a4b",
   "metadata": {},
   "outputs": [
    {
     "name": "stdout",
     "output_type": "stream",
     "text": [
      "Found 199665 files belonging to 58 classes.\n",
      "Using 39933 files for validation.\n"
     ]
    }
   ],
   "source": [
    "x_test = tf.keras.utils.image_dataset_from_directory(\n",
    "        path,\n",
    "        validation_split = 0.2,\n",
    "        subset=\"validation\",\n",
    "        seed=123,\n",
    "        image_size=(224,224),\n",
    "        batch_size=64\n",
    "    )"
   ]
  },
  {
   "cell_type": "code",
   "execution_count": 5,
   "id": "49a12db9-60cc-439b-9d30-1064cd9de57f",
   "metadata": {},
   "outputs": [],
   "source": [
    "base_model = EfficientNetB0(weights='imagenet', include_top=False, input_shape=(224, 224, 3))\n",
    "base_model.trainable = False"
   ]
  },
  {
   "cell_type": "code",
   "execution_count": 6,
   "id": "ca1e273f-451e-46c5-b038-f32e11422a47",
   "metadata": {},
   "outputs": [],
   "source": [
    "x = base_model.output\n",
    "x = GlobalAveragePooling2D()(x)\n",
    "x = Dropout(0.2)(x)\n",
    "predictions = Dense(len(x_train.class_names), activation='softmax')(x)\n",
    "\n",
    "model = Model(inputs=base_model.input, outputs=predictions)\n",
    "\n",
    "model.compile(optimizer=Adam(learning_rate=0.001),\n",
    "              loss='sparse_categorical_crossentropy',\n",
    "              metrics=['accuracy'])"
   ]
  },
  {
   "cell_type": "code",
   "execution_count": 7,
   "id": "86e3638c-1a13-481a-abe2-62ae8276c043",
   "metadata": {},
   "outputs": [
    {
     "name": "stdout",
     "output_type": "stream",
     "text": [
      "Epoch 1/5\n",
      "\u001b[1m2496/2496\u001b[0m \u001b[32m━━━━━━━━━━━━━━━━━━━━\u001b[0m\u001b[37m\u001b[0m \u001b[1m6437s\u001b[0m 3s/step - accuracy: 0.8552 - loss: 0.6200 - val_accuracy: 0.9727 - val_loss: 0.1057\n",
      "Epoch 2/5\n",
      "\u001b[1m2496/2496\u001b[0m \u001b[32m━━━━━━━━━━━━━━━━━━━━\u001b[0m\u001b[37m\u001b[0m \u001b[1m6385s\u001b[0m 3s/step - accuracy: 0.9666 - loss: 0.1163 - val_accuracy: 0.9801 - val_loss: 0.0710\n",
      "Epoch 3/5\n",
      "\u001b[1m2496/2496\u001b[0m \u001b[32m━━━━━━━━━━━━━━━━━━━━\u001b[0m\u001b[37m\u001b[0m \u001b[1m6363s\u001b[0m 3s/step - accuracy: 0.9738 - loss: 0.0868 - val_accuracy: 0.9832 - val_loss: 0.0585\n",
      "Epoch 4/5\n",
      "\u001b[1m2496/2496\u001b[0m \u001b[32m━━━━━━━━━━━━━━━━━━━━\u001b[0m\u001b[37m\u001b[0m \u001b[1m6405s\u001b[0m 3s/step - accuracy: 0.9766 - loss: 0.0741 - val_accuracy: 0.9854 - val_loss: 0.0506\n",
      "Epoch 5/5\n",
      "\u001b[1m2496/2496\u001b[0m \u001b[32m━━━━━━━━━━━━━━━━━━━━\u001b[0m\u001b[37m\u001b[0m \u001b[1m6390s\u001b[0m 3s/step - accuracy: 0.9786 - loss: 0.0672 - val_accuracy: 0.9854 - val_loss: 0.0474\n"
     ]
    }
   ],
   "source": [
    "history = model.fit(\n",
    "    x_train,\n",
    "    validation_data=x_test,\n",
    "    epochs=5\n",
    ")"
   ]
  },
  {
   "cell_type": "code",
   "execution_count": null,
   "id": "3c89cda7-15ef-4e31-8dce-dfc73de041e8",
   "metadata": {},
   "outputs": [],
   "source": [
    "model.save(\"efficientnet_custom_model_1.keras\")"
   ]
  },
  {
   "cell_type": "code",
   "execution_count": null,
   "id": "d5ded5b8-e822-4abf-b12a-0e6399859eff",
   "metadata": {},
   "outputs": [],
   "source": [
    "base_model.trainable = True\n",
    "model.compile(optimizer=Adam(learning_rate=1e-5),  # Lower LR when fine-tuning\n",
    "              loss='sparse_categorical_crossentropy',\n",
    "              metrics=['accuracy'])"
   ]
  },
  {
   "cell_type": "code",
   "execution_count": null,
   "id": "a96f4d0d-1366-4a51-b6e3-590ea9c5709d",
   "metadata": {},
   "outputs": [],
   "source": [
    "history_finetune = model.fit(\n",
    "    x_train,\n",
    "    validation_data=x_test,\n",
    "    epochs=5\n",
    ")"
   ]
  },
  {
   "cell_type": "code",
   "execution_count": null,
   "id": "16178e35-fc0c-4f69-969b-88e4779a231e",
   "metadata": {},
   "outputs": [],
   "source": [
    "model.save(\"efficientnet_custom_model.keras\")"
   ]
  }
 ],
 "metadata": {
  "kernelspec": {
   "display_name": "Python 3 (ipykernel)",
   "language": "python",
   "name": "python3"
  },
  "language_info": {
   "codemirror_mode": {
    "name": "ipython",
    "version": 3
   },
   "file_extension": ".py",
   "mimetype": "text/x-python",
   "name": "python",
   "nbconvert_exporter": "python",
   "pygments_lexer": "ipython3",
   "version": "3.12.3"
  }
 },
 "nbformat": 4,
 "nbformat_minor": 5
}
